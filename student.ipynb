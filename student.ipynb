{
  "nbformat": 4,
  "nbformat_minor": 0,
  "metadata": {
    "colab": {
      "provenance": [],
      "authorship_tag": "ABX9TyMVVuR67Qh6Ba8Y47u/RCdU",
      "include_colab_link": true
    },
    "kernelspec": {
      "name": "python3",
      "display_name": "Python 3"
    },
    "language_info": {
      "name": "python"
    }
  },
  "cells": [
    {
      "cell_type": "markdown",
      "metadata": {
        "id": "view-in-github",
        "colab_type": "text"
      },
      "source": [
        "<a href=\"https://colab.research.google.com/github/Tejaswinid09/student_exam/blob/main/student.ipynb\" target=\"_parent\"><img src=\"https://colab.research.google.com/assets/colab-badge.svg\" alt=\"Open In Colab\"/></a>"
      ]
    },
    {
      "cell_type": "code",
      "execution_count": null,
      "metadata": {
        "id": "XixHIVQaiSZ4"
      },
      "outputs": [],
      "source": [
        "# Import necessary libraries\n",
        "import pandas as pd\n",
        "import numpy as np\n",
        "from sklearn.linear_model import LinearRegression\n",
        "import joblib\n",
        "import matplotlib.pyplot as plt\n"
      ]
    },
    {
      "cell_type": "code",
      "source": [
        "# Load the datasets\n",
        "mat_url = \"student-mat.csv\"\n",
        "por_url = \"student-por.csv\""
      ],
      "metadata": {
        "id": "kY46Gw5Gi4Tk"
      },
      "execution_count": null,
      "outputs": []
    },
    {
      "cell_type": "code",
      "source": [
        "data_mat = pd.read_csv(mat_url, sep=';')\n",
        "data_por = pd.read_csv(por_url, sep=';')\n",
        "\n",
        "# Combine the datasets\n",
        "data = pd.concat([data_mat, data_por], ignore_index=True)"
      ],
      "metadata": {
        "id": "J95Wu0-fi_uH"
      },
      "execution_count": null,
      "outputs": []
    },
    {
      "cell_type": "code",
      "source": [
        "# Handle missing values if any\n",
        "data = data.dropna()\n",
        "\n",
        "# Feature engineering\n",
        "# Assume 'G1', 'G2', and 'G3' are the previous exam scores, 'studytime' as hours studied,\n",
        "# and 'absences' as attendance (modify according to actual dataset columns)\n",
        "features = ['G1', 'G2', 'studytime', 'absences']\n",
        "target = 'G3'  # 'G3' is the final exam score"
      ],
      "metadata": {
        "id": "WUqMo1GsjEsT"
      },
      "execution_count": null,
      "outputs": []
    },
    {
      "cell_type": "code",
      "source": [
        "data = pd.get_dummies(data, drop_first=True)\n",
        "\n",
        "# Check if selected features and target are in the dataset\n",
        "if not all(col in data.columns for col in features + [target]):\n",
        "    raise ValueError(\"Selected features or target variable not found in the dataset\")\n",
        "\n",
        "X = data[features]\n",
        "y = data[target]"
      ],
      "metadata": {
        "id": "JZLrIsThjL0F"
      },
      "execution_count": null,
      "outputs": []
    },
    {
      "cell_type": "code",
      "source": [
        "# Train the model on the entire dataset\n",
        "model = LinearRegression()\n",
        "model.fit(X, y)\n",
        "\n",
        "# Save the model (optional)\n",
        "joblib.dump(model, 'student_exam_score_predictor.pkl')\n",
        "print(\"Model trained and saved as 'student_exam_score_predictor.pkl'\")"
      ],
      "metadata": {
        "colab": {
          "base_uri": "https://localhost:8080/"
        },
        "id": "wmxvsdBNjQ1S",
        "outputId": "5b262de8-ac8a-4fbb-c6fc-8c31f23accfa"
      },
      "execution_count": null,
      "outputs": [
        {
          "output_type": "stream",
          "name": "stdout",
          "text": [
            "Model trained and saved as 'student_exam_score_predictor.pkl'\n"
          ]
        }
      ]
    },
    {
      "cell_type": "code",
      "source": [
        "# Function to predict exam score based on user input\n",
        "def predict_exam_score(g1, g2, studytime, absences):\n",
        "    # Create a DataFrame with user input\n",
        "    input_data = pd.DataFrame([[g1, g2, studytime, absences]], columns=features)\n",
        "\n",
        "    # Predict the exam score\n",
        "    exam_score = model.predict(input_data)\n",
        "    return exam_score[0]"
      ],
      "metadata": {
        "id": "HOrocgqijV9m"
      },
      "execution_count": null,
      "outputs": []
    },
    {
      "cell_type": "code",
      "source": [
        "# Visualize predicted vs actual scores in a bar chart\n",
        "def visualize_predictions():\n",
        "    # Take some actual exam scores from the dataset for visualization\n",
        "    sample_data = data.sample(n=5, random_state=42)  # Example: Take 10 random samples from the dataset\n",
        "    actual_scores = sample_data[target]\n",
        "    predicted_scores = []\n",
        "\n",
        "    for index, row in sample_data.iterrows():\n",
        "        predicted_scores.append(predict_exam_score(row['G1'], row['G2'], row['studytime'], row['absences']))\n",
        "\n",
        "    # Plotting\n",
        "    plt.figure(figsize=(10, 6))\n",
        "\n",
        "    bar_width = 0.35\n",
        "    index = np.arange(len(sample_data))\n",
        "\n",
        "    plt.bar(index, actual_scores, bar_width, label='Actual Scores', color='b')\n",
        "    plt.bar(index + bar_width, predicted_scores, bar_width, label='Predicted Scores', color='g')\n",
        "\n",
        "    plt.xlabel('Student')\n",
        "    plt.ylabel('Exam Scores')\n",
        "    plt.title('Actual vs Predicted Exam Scores')\n",
        "    plt.xticks(index + bar_width / 2, sample_data.index)\n",
        "    plt.legend()\n",
        "\n",
        "    plt.tight_layout()\n",
        "    plt.show()"
      ],
      "metadata": {
        "id": "u1C2LEWjjbrg"
      },
      "execution_count": null,
      "outputs": []
    },
    {
      "cell_type": "code",
      "source": [
        "# Example usage with dynamic input\n",
        "while True:\n",
        "    user_g1 = float(input(\"Enter previous exam score (G1): \"))\n",
        "    user_g2 = float(input(\"Enter previous exam score (G2): \"))\n",
        "    user_studytime = float(input(\"Enter study time (hours): \"))\n",
        "    user_absences = float(input(\"Enter number of absences: \"))\n",
        "\n",
        "    # Predict exam score based on user input\n",
        "    predicted_score = predict_exam_score(user_g1, user_g2, user_studytime, user_absences)\n",
        "    print(f\"Predicted Exam Score: {predicted_score}\")\n",
        "\n",
        "    # Visualize predictions\n",
        "    visualize_predictions()\n",
        "\n",
        "    # Ask user if they want to continue or exit\n",
        "    choice = input(\"Do you want to predict again? (yes/no): \").lower()\n",
        "    if choice != 'yes':\n",
        "        break"
      ],
      "metadata": {
        "colab": {
          "base_uri": "https://localhost:8080/",
          "height": 694
        },
        "id": "J9IoR_71j3YT",
        "outputId": "5864ad31-ed83-418b-9fe1-24a6ae59b84d"
      },
      "execution_count": null,
      "outputs": [
        {
          "output_type": "stream",
          "name": "stdout",
          "text": [
            "Enter previous exam score (G1): 33\n",
            "Enter previous exam score (G2): 33\n",
            "Enter study time (hours): 2\n",
            "Enter number of absences: 2\n",
            "Predicted Exam Score: 34.256074659168576\n"
          ]
        },
        {
          "output_type": "display_data",
          "data": {
            "text/plain": [
              "<Figure size 1000x600 with 1 Axes>"
            ],
            "image/png": "[encoded data removed]"
          },
          "metadata": {}
        }
      ]
    }
  ]
}